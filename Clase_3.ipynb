{
  "nbformat": 4,
  "nbformat_minor": 0,
  "metadata": {
    "colab": {
      "name": "Clase 3",
      "provenance": [],
      "collapsed_sections": []
    },
    "kernelspec": {
      "name": "python3",
      "display_name": "Python 3"
    },
    "language_info": {
      "name": "python"
    }
  },
  "cells": [
    {
      "cell_type": "markdown",
      "source": [
        "#Ejercicio 1"
      ],
      "metadata": {
        "id": "vxb-vvGjyHzT"
      }
    },
    {
      "cell_type": "code",
      "source": [
        "B=int(input(\"Ingresa un número \")) #el int es para valores enteros\n",
        "K=int(input(\"Ingresa otro número \")) #Input guarda los valores ingresados por el usuario\n",
        "m=B%K #El porcentaje es el módulo\n",
        "if K==0: #Después de una condición debe haber un : \n",
        " print(\"SINTAX ERROR\") #Después de esto debe dejarse un espacio [identación(tap)] para que Python tome las instrucciones\n",
        "if m==0:\n",
        " print(\"La división es exacta\") #Print muestra en pantalla\n",
        "else:\n",
        " print(\"El residuo es \" ,m ) #La coma trae el valor de la variable\n"
      ],
      "metadata": {
        "id": "cnETApsDyMu_",
        "colab": {
          "base_uri": "https://localhost:8080/"
        },
        "outputId": "ba5bcec6-f7a4-4959-a29b-e31b9f300301"
      },
      "execution_count": null,
      "outputs": [
        {
          "output_type": "stream",
          "name": "stdout",
          "text": [
            "Ingresa un número 8\n",
            "Ingresa otro número 2\n",
            "La división es exacta\n"
          ]
        }
      ]
    },
    {
      "cell_type": "markdown",
      "source": [
        "#Ejercicio 2"
      ],
      "metadata": {
        "id": "JNaINfPnnvXe"
      }
    },
    {
      "cell_type": "code",
      "source": [
        "B=int(input(\"Ingresa un número\"))\n",
        "K=int(input(\"Ingresa otro número\"))\n",
        "m=int #El = asigna el valor a una variable\n",
        "m==K%B #El == compara valores\n",
        "if m==0:\n",
        " print(\"El primer número es múltiplo del segundo\")\n",
        "else: #Else ejecuta instrucciones si la condición if no se cumple\n",
        " print(\"El primer número es NO múltiplo del segundo\")"
      ],
      "metadata": {
        "id": "E66sngr5pAdp",
        "colab": {
          "base_uri": "https://localhost:8080/"
        },
        "outputId": "f9809782-40f6-4c7d-8fb7-b1de230f705f"
      },
      "execution_count": null,
      "outputs": [
        {
          "output_type": "stream",
          "name": "stdout",
          "text": [
            "ingrerse su edad44\n",
            "ingrerse su edad6\n",
            "ingrerse su edad44\n",
            "[6, 44, 44]\n"
          ]
        }
      ]
    },
    {
      "cell_type": "markdown",
      "source": [
        "#Ejercicio 3"
      ],
      "metadata": {
        "id": "gr4vzBXQlr7H"
      }
    },
    {
      "cell_type": "code",
      "source": [
        "E=[]\n",
        "for i in range (0,3):\n",
        "  val=int(input(\"Ingrese su edad\"))\n",
        "  E.append(val) \n",
        "E.sort()\n",
        "print(E)\n",
        "\n",
        "if E[0]==E[1] and E[0]==E[2]:\n",
        " print(\"Los hermanos son trillizos\")\n",
        "elif E[0]==E[1] or E[0]==E[2] or E[1]==E[2]:\n",
        " print(\"Los hermanos son gemelos\")\n"
      ],
      "metadata": {
        "id": "TBE8fceulzJe",
        "colab": {
          "base_uri": "https://localhost:8080/"
        },
        "outputId": "00517dc1-84dc-4af6-c5e9-9e12a99584df"
      },
      "execution_count": null,
      "outputs": [
        {
          "output_type": "stream",
          "name": "stdout",
          "text": [
            "ingrerse su edad777\n",
            "ingrerse su edad3\n",
            "ingrerse su edad777\n",
            "[3, 777, 777]\n",
            "Los hermanos son gemelos\n"
          ]
        }
      ]
    },
    {
      "cell_type": "markdown",
      "source": [
        "#Ejercicio 4"
      ],
      "metadata": {
        "id": "pvgo3CvPlvBd"
      }
    },
    {
      "cell_type": "code",
      "source": [
        "print(\"Descubre en este programa si debes pagar impuesto de renta! \\nResponda (si), si cumple con alguno de estos topes\")\n",
        "print(\"¿Su patrimonio bruto al término del año gravable 2021 es igual o superior a $163.386.000? \\n ¿sus ingresos totales del respectivo ejercicio gravable son iguales o superiores a $50.831.000?\")\n",
        "print(\"¿sus consumos mediante tarjeta de crédito son iguales o superiores a $50.831.000? \\n ¿el valor total de sus compras y consumos son iguales o superiores a $50.831.000?\")\n",
        "print(\"¿el valor total acumulado de sus consignaciones bancarias, depósitos o inversiones financieras son igual o superior a $50.831.000?.\")\n",
        "B=str(input())\n",
        "if B.lower()==\"si\":\n",
        " print(\"Debe pagar impuesto a la renta.\")\n",
        "else:\n",
        " print(\"NO debe pagar impuesto a la renta.\")"
      ],
      "metadata": {
        "colab": {
          "base_uri": "https://localhost:8080/"
        },
        "id": "2Nyll85N75M5",
        "outputId": "c0e8547f-d415-40db-8164-c7fb8b5ef22c"
      },
      "execution_count": null,
      "outputs": [
        {
          "output_type": "stream",
          "name": "stdout",
          "text": [
            "Descubre en este programa si debes pagar impuesto de renta! \n",
            "Responda (si), si cumple con alguno de estos topes\n",
            "Su patrimonio bruto al término del año gravable 2021 es igual o superior a $163.386.000? \n",
            " sus ingresos totales del respectivo ejercicio gravable son iguales o superiores a $50.831.000?\n",
            "sus consumos mediante tarjeta de crédito son iguales o superiores a $50.831.000? \n",
            " el valor total de sus compras y consumos son iguales o superiores a $50.831.000?\n",
            "el valor total acumulado de sus consignaciones bancarias, depósitos o inversiones financieras son igual o superior a $50.831.000?.\n",
            "Siiiu\n",
            "NO debe pagar impuesto a la renta.\n"
          ]
        }
      ]
    },
    {
      "cell_type": "markdown",
      "source": [
        "#ejercicio 5\n"
      ],
      "metadata": {
        "id": "h0TaJJgkcw1k"
      }
    },
    {
      "cell_type": "code",
      "source": [
        "print(\"Vamos a averiguar de que universidad eres con tu código de estudiante (/◕ヮ◕)/\")\n",
        "a=str(input(\"Ingresa aquí tu código de estudiante!!!\")) #str puede contener muchos tipos de datos como numeros\n",
        "\n",
        "if a[0]=='U':\n",
        "    contador=0\n",
        "    for i in range(1,9):\n",
        "        if int(a[i].isdigit())==True:\n",
        "            contador+=1\n",
        "    if contador==8:\n",
        "        print(\"Usuario UNAB\")\n",
        "        if int(a[7])==2 and int(a[8])==6:\n",
        "         print(\"Eres ingeniero electrónico\")\n",
        "        elif int(a[7])==3 and int(a[8])==2:\n",
        "            print(\"Eres ingeniero en sistemas\")\n",
        "        elif int(a[7])==5 and int(a[8])==0:\n",
        "            print(\"Eres ingeniero en administración de empresas\")\n",
        "      \n",
        "elif a[0]=='A':\n",
        "    int(a[1])==0 and int(a[2])==0 and int(a[3])==0\n",
        "    print(\"Usuario ANDES\")\n",
        "    if int(a[7])==2 and int(a[8])==6:\n",
        "     print(\"Eres ingeniero electrónico\")\n",
        "    elif int(a[7])==3 and int(a[8])==2:\n",
        "     print(\"Eres ingeniero en sistemas\")\n",
        "    elif int(a[7])==5 and int(a[8])==0:\n",
        "     print(\"Eres ingeniero en administración de empresas\")\n",
        "elif int(a[0:4])>1950:\n",
        "    print(\"Usuario UIS\")\n",
        "    if int(a[5])==2 and int(a[6])==6:\n",
        "     print(\"Eres ingeniero electrónico\")\n",
        "    elif int(a[5])==3 and int(a[6])==2:\n",
        "     print(\"Eres ingeniero en sistemas\")\n",
        "    elif int(a[5])==5 and int(a[6])==0:\n",
        "     print(\"Eres ingeniero en administración de empresas\")\n"
      ],
      "metadata": {
        "colab": {
          "base_uri": "https://localhost:8080/"
        },
        "id": "r5EKkWjzcy9S",
        "outputId": "dce05ec0-a886-4ffc-9f60-57f3de7e339c"
      },
      "execution_count": null,
      "outputs": [
        {
          "output_type": "stream",
          "name": "stdout",
          "text": [
            "Vamos a averiguar de que universidad eres con tu codigo de estudiante (/◕ヮ◕)/\n",
            "Ingresa aquí tu codigo de estudiante!!!A00000050\n",
            "Usuario ANDES\n",
            "Eres ingeniero en administración de empresas\n"
          ]
        }
      ]
    },
    {
      "cell_type": "markdown",
      "source": [
        "#Ejercicio 6"
      ],
      "metadata": {
        "id": "3mXdZhIw97Zi"
      }
    },
    {
      "cell_type": "code",
      "source": [
        "print(\"¡¡¡Vamos a calcular tu promedio! ¡¡¡Espero sea 5,0!!! (ง︡0.0)ง \")\n",
        "B=float(input(\"Ingresa tu primera nota.\"))\n",
        "K=float(input(\"Ingresa tu segunda nota.\"))\n",
        "S=float(input(\"Ingresa tu tercera nota.\"))\n",
        "J=float(input(\"Ingresa tu cuarta nota.\"))\n",
        "\n",
        "prom= ((B+K+S+J)/4)\n",
        "\n",
        "if prom >=4.5:\n",
        "  print(\"¡¡¡FELICITACIONES!!! Te salvas del parcial (っOvO)っ.\")\n",
        "elif prom >=3.5 and prom < 4.5: #and: Debe cumplir todas las condiciones al mismo tiempo\n",
        "  print(\"Debes presentar el examen.\")\n",
        "elif prom >=3.0 and prom < 3.5: #Son intervalos abiertos,son cerrados si tienen el =\n",
        "  print(\"Adicional al examen, debes presentar un trabajo D:.\")\n",
        "elif prom >2.0 and prom < 3.0:\n",
        "  print(\"¡¡¡Tienes que habilitar!!! O﹏o.\")\n",
        "elif prom <= 2.0:\n",
        "  print(\"Parce te toca repetir ಥ_ಥ.\")"
      ],
      "metadata": {
        "colab": {
          "base_uri": "https://localhost:8080/"
        },
        "id": "lhESalzx9_In",
        "outputId": "4026ed17-ade7-425c-b412-e33eca1fa271"
      },
      "execution_count": null,
      "outputs": [
        {
          "output_type": "stream",
          "name": "stdout",
          "text": [
            "Vamos a calcular tu promedio! Espero sea 5,0!!! (ง︡0.0)ง \n",
            "Ingresa tu primera nota4.5\n",
            "Ingresa tu segunda nota4.5\n",
            "Ingresa tu tercera nota4.5\n",
            "Ingresa tu cuarta nota4.5\n",
            "FELICITACIONES!!! Te salvas del parcial (っOvO)っ.\n"
          ]
        }
      ]
    },
    {
      "cell_type": "markdown",
      "source": [
        "#Ejercicio 7"
      ],
      "metadata": {
        "id": "bGbK1005KqYd"
      }
    },
    {
      "cell_type": "code",
      "source": [
        "from datetime import date, time, datetime #Importamos la libreria \"datetime\"\n",
        "B=str(input(\"Para que el programa te diga cuantos años tienes \\n ingresa tu fecha de nacimiento de esta manera: día/mes/año \")) \n",
        "C=datetime.strptime(B,\"%d/%m/%Y\") #\".strptime\" es un método que pasa un string a fecha\n",
        "#(variable,'%d/%m/%Y') es una directiva\n",
        "D=datetime.now() #\".now\" es un método que nos da la fecha actual\n",
        "L=D-C\n",
        "\n",
        "print(\"Tienes\",int(L.days/365), \"años\" )#.days/365 convierte días en años\n",
        "#int() convierte a entero\n",
        "K=str(input(\"Ingrese la fecha de su próximo cumpleaños de esta manera: día/mes/año \\n para saber cuantos días faltan para su cumpleaños \"  ))\n",
        "P=datetime.strptime(K,\"%d/%m/%Y\")\n",
        "S=P-D\n",
        "print(\"Faltan\" ,S.days, \"días para tu cumpleaños!\")"
      ],
      "metadata": {
        "id": "yCJWWHqpKtAm",
        "colab": {
          "base_uri": "https://localhost:8080/"
        },
        "outputId": "d58f1d00-87e4-4f95-e673-29f39d8ed21e"
      },
      "execution_count": null,
      "outputs": [
        {
          "output_type": "stream",
          "name": "stdout",
          "text": [
            "Para que el programa te diga cuantos años tienes \n",
            " ingresa tu fecha de nacimiento de esta manera: día/mes/año 29/03/2005\n",
            "Tienes 17 años\n",
            "Ingrese la fecha de su próximo cumpleaños de esta manera: día/mes/año \n",
            " para saber cuantos días faltan para tu cumpleaños29/03/2023\n",
            "Faltan 225 días para tu cumpleaños!\n"
          ]
        }
      ]
    },
    {
      "cell_type": "markdown",
      "source": [
        "#Ejercicio 8"
      ],
      "metadata": {
        "id": "bGYI08Ebx2Ge"
      }
    },
    {
      "cell_type": "code",
      "source": [
        "B=int(input(\"¡¡¡Ingresa un año para saber si es bisiesto o no!!!. \"))\n",
        "y=B%4\n",
        "x=B%400\n",
        "m=B%100\n",
        "if y !=0: #El \"!\" es como es \">=\" es lo mismo pero con la exclamación para marcar diferente \"!=\"\n",
        " print(\"El año ingresado NO es bisiesto.\")\n",
        "elif y==0 and m!=0: \n",
        " print(\"El año ingresado es bisiesto.\")\n",
        "elif y==0 and m==0 and x!=0: \n",
        " print(\"El año ingresado NO es bisiesto.\")\n",
        "elif y==0 and m==0 and x==0: \n",
        " print(\"El año ingresado es bisiesto.\")\n",
        "else:\n",
        " print(\"El año ingresado NO es bisiesto.\")"
      ],
      "metadata": {
        "colab": {
          "base_uri": "https://localhost:8080/"
        },
        "id": "sHfyYqpzx45W",
        "outputId": "c25033cc-d880-492a-b82a-98c6be28fffc"
      },
      "execution_count": null,
      "outputs": [
        {
          "output_type": "stream",
          "name": "stdout",
          "text": [
            "Ingresa un año para saber si es bisiesto o no!!!. 2400\n",
            "El año ingresado es bisiesto!.\n"
          ]
        }
      ]
    },
    {
      "cell_type": "markdown",
      "source": [
        "#Ejercicio 9"
      ],
      "metadata": {
        "id": "sHCbC9Z8dUxF"
      }
    },
    {
      "cell_type": "code",
      "source": [
        "print(\"Bienvenido a calculator!!!\")\n",
        "print(\"Vamos a hallar los coeficientes de una ecuación o(≧▽≦)o\")\n",
        "print(\"Recuerda que la fórmula de la pendiente de la recta es: ax+b=0 \")\n",
        "print(\"Para esto, es necesario que des los siguientes valores: \")\n",
        "\n",
        "a=float(input(\"Ingresa el coeficiente a: \"))\n",
        "b=float(input(\"Ingresa el coeficiente b: \"))\n",
        "\n",
        "if a==0: \n",
        " print(\"No es posible ejecutar la división.\")\n",
        "else:\n",
        " x=-b/a\n",
        " print(\"Los calculos han sido completados!!! \\n\",x, \"es el resultado\")"
      ],
      "metadata": {
        "colab": {
          "base_uri": "https://localhost:8080/"
        },
        "id": "2HOrP72EdRKZ",
        "outputId": "289972b3-908c-43ab-8895-952bb678be0c"
      },
      "execution_count": null,
      "outputs": [
        {
          "output_type": "stream",
          "name": "stdout",
          "text": [
            "Bienvenido a calculator!!!\n",
            "Vamos a hallar los coeficientes de una ecuación o(≧▽≦)o\n",
            "Recuerda que la formula de la pendiente de la recta es: ax+b=0 \n",
            "Para esto, es necesario que des los siguientes valores: \n",
            "ingresa el coeficiente a: 6\n",
            "ingresa el coeficiente b: 4\n",
            "Los calculos han sido completados!!! \n",
            " -0.6666666666666666 es el resultado\n"
          ]
        }
      ]
    },
    {
      "cell_type": "markdown",
      "source": [
        "#Ejercicio 10"
      ],
      "metadata": {
        "id": "h4JtrflmdiFg"
      }
    },
    {
      "cell_type": "code",
      "source": [
        "print(\"¡¡¡Bienvenido a calculator!!!\")\n",
        "print(\"Vamos a hallar la pendiente de la recta o(≧▽≦)o\")\n",
        "print(\"Recuerda que la fórmula de la pendiente de la recta es: ax+b=c\")\n",
        "print(\"Para esto, es necesario que des los siguientes valores: \")\n",
        "\n",
        "B=float(input(\"El valor de un punto en x \"))\n",
        "K=float(input(\"El valor del mismo punto en y: \"))\n",
        "S=float(input(\"El valor de la b (corte con el eje y): \"))\n",
        "\n",
        "E=(K-S)/B\n",
        "\n",
        "print(\"Los calculos han sido completados!!! \\n\",E, \"Es el valor de la peniente\")"
      ],
      "metadata": {
        "colab": {
          "base_uri": "https://localhost:8080/"
        },
        "id": "yBOJ3mMNdk6w",
        "outputId": "b300ae84-e5c5-4ba6-a3d6-5c28eb9c3965"
      },
      "execution_count": null,
      "outputs": [
        {
          "output_type": "stream",
          "name": "stdout",
          "text": [
            "Bienvenido a calculator!!!\n",
            "Vamos a hallar la pendiente de la recta o(≧▽≦)o\n",
            "Recuerda que la formula de la pendiente de la recta es: ax+b=c\n",
            "Para esto, es necesario que des los siguientes valores: \n",
            "El valor de un punto en x 20\n",
            "El valor del mismo punto en y: 30\n",
            "El valor de la b (corte con el eje y): 222\n",
            "Los calculos han sido completados!!! \n",
            " -9.6 Es el valor de la peniente\n"
          ]
        }
      ]
    },
    {
      "cell_type": "markdown",
      "source": [
        "#Ejercicio 11"
      ],
      "metadata": {
        "id": "qgRj_ZH2dlZS"
      }
    },
    {
      "cell_type": "code",
      "source": [
        "from math import sqrt\n",
        "print(\"¡¡¡Bienvenido a calculator!!!.\")\n",
        "print(\"Vamos a hallar los coeficientes de una ecuación de segundo grado o(≧▽≦)o.\")\n",
        "print(\"Para esto, es necesario que des los coeficientes \\n de la ecuación de la recta ax²+bx+c=0: \")\n",
        "\n",
        "a=float(input(\"Ingresa el coeficiente a: \"))\n",
        "b=float(input(\"Ingresa el coeficiente b: \"))\n",
        "c=float(input(\"Ingresa el coeficiente c: \"))\n",
        "\n",
        "d=b*b-4*a*c\n",
        "\n",
        "if d<0: \n",
        " print(\"No hay solucion real.\")\n",
        "else:\n",
        " raiz=sqrt(d)      \n",
        " x1=(-b+raiz)/(2*a)     \n",
        " if d!= 0:         \n",
        "   x2 = (-b-raiz)/(2*a) \n",
        "   print(\"Los resultados son: {x1} y {x2}.\") \n",
        " else:\n",
        "   print(\"El resultado es x= {x1}.\")"
      ],
      "metadata": {
        "id": "11IBjtYzdnuH"
      },
      "execution_count": null,
      "outputs": []
    },
    {
      "cell_type": "markdown",
      "source": [
        "#Ejercicio 12"
      ],
      "metadata": {
        "id": "hibzqCJSeSRH"
      }
    },
    {
      "cell_type": "code",
      "source": [
        "import os\n",
        "\n",
        "print(\"¡¡¡Bienvenido a mateaprendizaje!!! (ɔ◔‿◔)ɔ ♥ \")\n",
        "print(\"Qué quieres practicar hoy?\")\n",
        "print(\"Si quieres practicar suma pon 1, si quieres practicar resta pon 2,\\nSi quieres practicar multiplicación pon 3, si quieres división pon 4\")\n",
        "#\"\\n\" es un salto de línea OJO NO ES IGUAL A \"/\"\n",
        "\n",
        "B=int(input(\"\"))\n",
        "import random #Importamos la libreria\n",
        "random1= int(random.uniform(1,100)) #Nombramos la variable\n",
        "random2= int(random.uniform(7,200)) #Con el atributo .uniform es el rango donde se toman los datos\n",
        "K=0\n",
        "resultado2=float\n",
        "\n",
        "if B == 1:\n",
        "  resultado2=random1+random2\n",
        "  print(\"Por favor opera \" ,random1, \"y \" ,random2) #Necesitamos dos comas para abrir y cerrar la operación\n",
        "  resultado1=float(input(\"¿Cual es el resultado? >(OvO)< Vamos! Tu puedes \\n\"))\n",
        "\n",
        "elif B== 2:\n",
        "  resultado2=random1-random2\n",
        "  print(\"Por favor opera \" ,random1, \"y \" ,random2) \n",
        "  resultado1=float(input(\"¿Cual es el resultado? >(OvO)< Vamos! Tu puedes \\n\"))\n",
        "elif B== 3:\n",
        "  resultado2=random1*random2\n",
        "  print(\"Por favor opera \" ,random1, \"y \" ,random2) \n",
        "  resultado1=float(input(\"¿Cual es el resultado? >(OvO)< Vamos! Tu puedes \\n\"))\n",
        "elif B==4:\n",
        "  resultado2=random1/random2\n",
        "  print(\"Por favor opera \" ,random1, \"y \" ,random2) \n",
        "  resultado1=float(input(\"¿Cual es el resultado? >(OvO)< Vamos! Tu puedes \\n\"))\n",
        "elif B > 4 or B < 1 :\n",
        "  resultado1=float; print(\"Opción inválida D: \");os.system('exit')\n",
        "\n",
        "\n",
        "K=resultado1-resultado2\n",
        "if K == 0:\n",
        "  print(\"El resultado es correcto\")\n",
        "else:\n",
        "  print(\"Resultado incorrecto (╥﹏╥) \\n La respuesta es: \",resultado2)"
      ],
      "metadata": {
        "colab": {
          "base_uri": "https://localhost:8080/"
        },
        "id": "8KsgH1KHeVZS",
        "outputId": "43b2db35-695a-431b-84eb-bb3db600da48"
      },
      "execution_count": null,
      "outputs": [
        {
          "output_type": "stream",
          "name": "stdout",
          "text": [
            "Bienvenido a mateaprendizaje!!! (ɔ◔‿◔)ɔ ♥ \n",
            "Que quieres practicar hoy?\n",
            "Si quieres practicar suma pon 1, si quieres practicar resta pon 2,\n",
            "Si quieres practicar multiplicación pon 3, si quieres división pon 4\n",
            "4\n",
            "Por favor opera  95 y  8\n",
            "¿Cual es el resultado? >(OvO)< Vamos! Tu puedes!!! \n",
            "11.875\n",
            "El resultado es correcto\n"
          ]
        }
      ]
    },
    {
      "cell_type": "markdown",
      "source": [
        "#Ejercicio 13"
      ],
      "metadata": {
        "id": "pgtxZ749yc2v"
      }
    },
    {
      "cell_type": "code",
      "source": [
        "B=int(input(\"Ingresa un número: \")) #El input tambien puede servir de print pero con poco texto\n",
        "print(\"Si quieres convertir de cm a metros pon 1, si quieres convertir de cm a km pon 2 , si quieres convertir de mestros a km pon 3, si quieres convertir de km a cm pon 4, si quieres convertir de km a m pon 5\")\n",
        "K=int(input(\"\"))\n",
        "t=int\n",
        "if K==1: \n",
        " t=B/100\n",
        "elif K==2: #Elif: Si no se cumple la condición, ejecuta otras instrucciones siguiendo una nueva condición dada \n",
        " t=B/100000\n",
        "elif K==3:\n",
        " t=B/1000\n",
        "elif K==4:\n",
        " t=B*1000\n",
        "elif K==5:\n",
        " t=B*1000\n",
        "else:\n",
        "  print(\"Opción inválida\")\n",
        "print (t)"
      ],
      "metadata": {
        "colab": {
          "base_uri": "https://localhost:8080/"
        },
        "id": "J_fvhbcbr2Nv",
        "outputId": "c5c4fdc0-75ec-474a-e4de-3f3e93e97577"
      },
      "execution_count": null,
      "outputs": [
        {
          "output_type": "stream",
          "name": "stdout",
          "text": [
            "Ingresa un número: 5\n",
            "Si quieres convertir de cm a metros pon 1, si quieres convertir de cm a km pon 2 , si quieres convertir de mestros a km pon 3, si quieres convertir de km a cm pon 4, si quieres convertir de km a m pon 5\n",
            "1\n",
            "0.05\n"
          ]
        }
      ]
    },
    {
      "cell_type": "markdown",
      "source": [
        "#Ejercicio 14"
      ],
      "metadata": {
        "id": "vA8bb3q12U51"
      }
    },
    {
      "cell_type": "code",
      "source": [
        "print(\"¡Ola! Ingresa una letra y sabras si es consonante o vocal \\( ≖.≖)/\")\n",
        "B=input()\n",
        "cantidad=len(B)\n",
        "tipo=type(B)\n",
        "\n",
        "if B.isdigit()==True: #el atributo .isdigit() comprueba si un valor es un número y regresa a un valor Booleano [True or False]\n",
        " print(\"SYNTAX ERROR\")\n",
        "elif cantidad>=2:\n",
        " print(\"SYNTAX ERROR\")\n",
        "else:\n",
        "  if B==(\"a\" or \"e\" or \"i\" or \"o\" or \"u\"):\n",
        "    print (\"La letra ingresada es una vocal :D\")\n",
        "  else:\n",
        "    print (\"la letra ingresada es una consonante\")"
      ],
      "metadata": {
        "colab": {
          "base_uri": "https://localhost:8080/"
        },
        "id": "FpCH6yTJdpIk",
        "outputId": "8553355e-0466-4741-c14d-52e9471a3881"
      },
      "execution_count": null,
      "outputs": [
        {
          "output_type": "stream",
          "name": "stdout",
          "text": [
            "Ola!!! ingresa, una letra y sabras si es consoante o vocal \\( ≖.≖)/\n",
            "5\n",
            "1\n",
            "la letra ingresada es una consonante\n"
          ]
        }
      ]
    },
    {
      "cell_type": "markdown",
      "source": [
        "#Ejercicio 15\n"
      ],
      "metadata": {
        "id": "7xW_muEYIn2Z"
      }
    },
    {
      "cell_type": "code",
      "source": [
        "K=int(input(\"Ingresa un numero entero!!!\"))\n",
        "\n",
        "print(\"El valor absoluto del número ingresado es: \")\n",
        "print(abs(K)) #La función \"abs()\" muestra el valor absoluto de un número"
      ],
      "metadata": {
        "colab": {
          "base_uri": "https://localhost:8080/"
        },
        "id": "RZ36ckGMIsbT",
        "outputId": "c0b71dc3-6f6f-405a-baa4-2a4d7c542086"
      },
      "execution_count": null,
      "outputs": [
        {
          "output_type": "stream",
          "name": "stdout",
          "text": [
            "Ingresa un numero entero!!!-1111\n",
            "El valor absoluto del numero ingresado es: \n",
            "1111\n"
          ]
        }
      ]
    },
    {
      "cell_type": "markdown",
      "source": [
        "#Ejercicio 16"
      ],
      "metadata": {
        "id": "dJYhxSfd79NR"
      }
    },
    {
      "cell_type": "code",
      "source": [
        "B=[]\n",
        "user1=str(input(\"Ingrese su nombre\"))\n",
        "list(user1)\n",
        "K=[]\n",
        "user2=str(input(\"Ingrese su nombre\"))\n",
        "list(user2)\n",
        "\n",
        "if user1[0]==user2[0] or user1[-1]==user2[-1]:\n",
        " print(\"Coincidencia.\")\n",
        "else:\n",
        " print(\"No hay coincidencia.\")"
      ],
      "metadata": {
        "colab": {
          "base_uri": "https://localhost:8080/"
        },
        "id": "MmuAwWig8DUo",
        "outputId": "3ce61f8a-2398-4f3f-8f5a-3fc93639c36e"
      },
      "execution_count": null,
      "outputs": [
        {
          "output_type": "stream",
          "name": "stdout",
          "text": [
            "Ingrese su nombreaaa\n",
            "Ingrese su nombreno\n",
            "No hay coinicdencia\n"
          ]
        }
      ]
    },
    {
      "cell_type": "markdown",
      "source": [
        "#Ejercicio 17"
      ],
      "metadata": {
        "id": "Sg_YR3jhXxuM"
      }
    },
    {
      "cell_type": "code",
      "source": [
        "print(\"¡¡¡Bienvenido a la votaciones para presidente!!!(｡◕‿◕｡)♥.\")\n",
        "print(\"¡Recuerda que tu voto es secreto!\")\n",
        "\n",
        "print(\"Si desea votar por el candidato A del partido Alfa ponga A, \\n si desea votar por el candidato B del partido Beta ponga B, \\n si desea votar por el candidato C del partido Gamma ponga C.\")\n",
        "K=str(input(\"\"))\n",
        "\n",
        "if K.upper()==\"A\": #.lower() convierte las letras de mayúsculas en minúsculas\n",
        " print(\"¡Usted ha votado por el candidato A del partido Alfa! (๑•́ ₃ •̀๑).\")\n",
        "elif K.upper()==\"B\": #.upper() convierte las minúsculas en mayúsculas\n",
        " print(\"¡Usted ha votado por el candidato B del partido Beta! (๑•́ ₃ •̀๑).\")\n",
        "elif K.upper()==\"C\":\n",
        " print(\"¡Usted ha votado por el candidato C del partido Gamma! (๑•́ ₃ •̀๑).\")\n",
        "else:\n",
        " print(\"SYNTAX ERROR O-o.\")\n"
      ],
      "metadata": {
        "colab": {
          "base_uri": "https://localhost:8080/"
        },
        "id": "uJgTo2aGXqkz",
        "outputId": "25a57c57-e771-403b-c52e-4b17c2dc2428"
      },
      "execution_count": null,
      "outputs": [
        {
          "output_type": "stream",
          "name": "stdout",
          "text": [
            "Bienvenido a la votaciones presidente!!! (｡◕‿◕｡) ♥. \n",
            "Recuerda que tu voto es secreto!\n",
            "Si desea votar por el candidato A del partido Alfa ponga A, \n",
            " si desea votar por el candidato B del partido Beta ponga B, \n",
            " si desea votar por el candidato C del partido Gamma ponga C.\n",
            "a\n",
            "Usted ha votado por el candidato A del partido Alfa! (๑•́ ₃ •̀๑).\n"
          ]
        }
      ]
    },
    {
      "cell_type": "markdown",
      "source": [
        "#Ejercicio 18"
      ],
      "metadata": {
        "id": "lRsg2HXx_iO_"
      }
    },
    {
      "cell_type": "code",
      "source": [
        "K=str(input(\"Ingresa un número entero para separar en sus unidades, decenas y centenas\"))\n",
        "\n",
        "\n",
        "print(\"Las unidades son: \",K[2])\n",
        "print(\"Las decenas son: \",K[1])\n",
        "print(\"Las centenas son: \",K[0])\n",
        " "
      ],
      "metadata": {
        "colab": {
          "base_uri": "https://localhost:8080/"
        },
        "id": "0AKc_az8_l29",
        "outputId": "296dd729-6614-4bf2-f171-0c2b28e2cf20"
      },
      "execution_count": null,
      "outputs": [
        {
          "output_type": "stream",
          "name": "stdout",
          "text": [
            "Ingresa un numero entero para separar en sus unidades, decenas y centenas123\n",
            "Las unidades son:  3\n",
            "Las decenas son:  2\n",
            "Las centenas son:  1\n"
          ]
        }
      ]
    },
    {
      "cell_type": "markdown",
      "source": [
        "#Ejercicio 19\n"
      ],
      "metadata": {
        "id": "d-QCxcNPPazl"
      }
    },
    {
      "cell_type": "code",
      "source": [
        "\n",
        "K=str(input(\"Descubre si una palabra es un palindromo \"))\n",
        "B=list(K.lower()) #vuelve las letras a minusculas\n",
        "K=list(K.lower())\n",
        "B.reverse()\n",
        "\n",
        "if K==B:\n",
        "  print(\"La palabra ingresada es un palíndromo\")\n",
        "else:\n",
        "  print(\"La palabra ingresada NO es un palíndromo\")"
      ],
      "metadata": {
        "id": "k1jCSo4EcpNu",
        "colab": {
          "base_uri": "https://localhost:8080/"
        },
        "outputId": "42c5e1a3-33f2-44bf-b167-f465532ddfb1"
      },
      "execution_count": null,
      "outputs": [
        {
          "output_type": "stream",
          "name": "stdout",
          "text": [
            "Descubre si una palabra es un palindromo ayuda por favor\n",
            "La palabra ingresada NO es un palindromo\n"
          ]
        }
      ]
    },
    {
      "cell_type": "markdown",
      "source": [
        "#Ejercicio 20"
      ],
      "metadata": {
        "id": "lKGjMTDLQdDd"
      }
    },
    {
      "cell_type": "code",
      "source": [
        "K=str(input(\"Descubre si el número es un palíndromo \"))\n",
        "B=list(K)\n",
        "K=list(K)\n",
        "B.reverse()\n",
        "\n",
        "if K==B:\n",
        "  print(\"El número ingresado es un palíndromo\")\n",
        "else:\n",
        "  print(\"El número ingresado NO es un palíndromo\")"
      ],
      "metadata": {
        "colab": {
          "base_uri": "https://localhost:8080/"
        },
        "id": "TbJl8qRpQlSf",
        "outputId": "997eecf1-5b5a-4443-edd3-24aa24a5a21a"
      },
      "execution_count": null,
      "outputs": [
        {
          "output_type": "stream",
          "name": "stdout",
          "text": [
            "Descubre si el número es un palíndromo 123\n",
            "El número ingresado NO es un palíndromo\n"
          ]
        }
      ]
    }
  ]
}