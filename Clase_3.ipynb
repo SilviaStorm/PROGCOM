{
  "nbformat": 4,
  "nbformat_minor": 0,
  "metadata": {
    "colab": {
      "name": "Clase 3",
      "provenance": []
    },
    "kernelspec": {
      "name": "python3",
      "display_name": "Python 3"
    },
    "language_info": {
      "name": "python"
    }
  },
  "cells": [
    {
      "cell_type": "markdown",
      "source": [
        "#Ejercicio 1"
      ],
      "metadata": {
        "id": "vxb-vvGjyHzT"
      }
    },
    {
      "cell_type": "code",
      "source": [
        ""
      ],
      "metadata": {
        "id": "cnETApsDyMu_"
      },
      "execution_count": null,
      "outputs": []
    },
    {
      "cell_type": "markdown",
      "source": [
        "#Ejercicio 2"
      ],
      "metadata": {
        "id": "JNaINfPnnvXe"
      }
    },
    {
      "cell_type": "code",
      "source": [
        "B=int(input(\"Ingresa un número\"))\n",
        "K=int(input(\"Ingresa otro número\"))\n",
        "m=int\n",
        "m==K%B\n",
        "if m==0:\n",
        " print(\"El primer número es múltiplo del segundo\")\n",
        "else:\n",
        " print(\"El primer número es NO múltiplo del segundo\")"
      ],
      "metadata": {
        "id": "E66sngr5pAdp",
        "colab": {
          "base_uri": "https://localhost:8080/"
        },
        "outputId": "42dc95bb-d5de-4ff9-a9a2-dbb11a79b42d"
      },
      "execution_count": 20,
      "outputs": [
        {
          "output_type": "stream",
          "name": "stdout",
          "text": [
            "Ingresa un numero5\n",
            "Ingresa otro numero2\n",
            "El primer numero es no multiplo del segundo\n"
          ]
        }
      ]
    },
    {
      "cell_type": "markdown",
      "source": [
        "#Ejercicio 13"
      ],
      "metadata": {
        "id": "pgtxZ749yc2v"
      }
    },
    {
      "cell_type": "code",
      "source": [
        "B=int(input(\"Ingresa un número\"))\n",
        "K=int(input(\"Si quieres convertir de cm a metros pon 1, si quieres convertir de\tcm a km pon 2 , si quieres convertir de mestros a km pon 3, si quieres convertir de km a cm pon 4\"))\n",
        "t==int\n",
        "if K==1: \n",
        " t=B/100\n",
        "else if K==2:\n",
        " t=B/100000\n",
        "else if K==3:\n",
        " t=B/1000\n",
        "else if K==4:\n",
        " t=B*1000"
      ],
      "metadata": {
        "id": "J_fvhbcbr2Nv"
      },
      "execution_count": null,
      "outputs": []
    }
  ]
}