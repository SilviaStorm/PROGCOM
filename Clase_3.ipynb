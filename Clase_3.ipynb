{
  "nbformat": 4,
  "nbformat_minor": 0,
  "metadata": {
    "colab": {
      "name": "Clase 3",
      "provenance": [],
      "collapsed_sections": []
    },
    "kernelspec": {
      "name": "python3",
      "display_name": "Python 3"
    },
    "language_info": {
      "name": "python"
    }
  },
  "cells": [
    {
      "cell_type": "markdown",
      "source": [
        "#Ejercicio 1"
      ],
      "metadata": {
        "id": "vxb-vvGjyHzT"
      }
    },
    {
      "cell_type": "code",
      "source": [
        "B=int(input(\"Ingresa un número \")) #el int es para valores enteros\n",
        "K=int(input(\"Ingresa otro número \")) #Input guarda los valores ingresados por el usuario\n",
        "prin= \"Exacta\" if B%K==0 else \"\"#El porcentaje es el módulo\n",
        "c= \"Inexacta\" if B%K!=0 else \"\"\n",
        "\n",
        "print(prin,c,\"residuo=\",B%K)\n"
      ],
      "metadata": {
        "id": "cnETApsDyMu_",
        "colab": {
          "base_uri": "https://localhost:8080/"
        },
        "outputId": "683e9594-2ca9-4099-8312-b5c24b51de18"
      },
      "execution_count": 15,
      "outputs": [
        {
          "output_type": "stream",
          "name": "stdout",
          "text": [
            "Ingresa un número 12\n",
            "Ingresa otro número 5\n",
            " Inexacta residuo= 2\n"
          ]
        }
      ]
    },
    {
      "cell_type": "markdown",
      "source": [
        "#Ejercicio 2"
      ],
      "metadata": {
        "id": "JNaINfPnnvXe"
      }
    },
    {
      "cell_type": "code",
      "source": [
        "B=int(input(\"Ingresa un número\"))\n",
        "K=int(input(\"Ingresa otro número\"))\n",
        "m=int #El = asigna el valor a una variable\n",
        "m==K%B #El == compara valores\n",
        "\n",
        "c= \"El primer número es múltiplo del segundo\" if m==0 else\"El primer número es NO múltiplo del segundo\"\n",
        "print(c)"
      ],
      "metadata": {
        "id": "E66sngr5pAdp",
        "colab": {
          "base_uri": "https://localhost:8080/"
        },
        "outputId": "26a62897-a240-4ab4-ed7d-aff96e8a189d"
      },
      "execution_count": 17,
      "outputs": [
        {
          "output_type": "stream",
          "name": "stdout",
          "text": [
            "Ingresa un número5\n",
            "Ingresa otro número6\n",
            "El primer número es NO múltiplo del segundo\n"
          ]
        }
      ]
    },
    {
      "cell_type": "markdown",
      "source": [
        "#Ejercicio 3"
      ],
      "metadata": {
        "id": "gr4vzBXQlr7H"
      }
    },
    {
      "cell_type": "code",
      "source": [
        "E=[]#Inicializo la lista/Creo una lista vacía para \n",
        "for i in range (0,3): #i es un valor que va en aumento\n",
        "  val=int(input(\"Ingrese su edad\"))\n",
        "  E.append(val) #añade valres a la lista, el val esta dentro pq es el valor que se va a ingresar\n",
        "E.sort() #organiza la lista de menor a mayor\n",
        "print(E)\n",
        "\n",
        "b=\"Los hermanos son trillizos\" if (E[0]==E[1] and E[0]==E[2]) else \"\"\n",
        "c=\"Los hermanos son gemelos\" if E[0]==E[1] or E[0]==E[2] or E[1]==E[2] else\"\"\n",
        "\n",
        "print(b,c)\n"
      ],
      "metadata": {
        "id": "TBE8fceulzJe",
        "colab": {
          "base_uri": "https://localhost:8080/"
        },
        "outputId": "fb54c9bd-2196-4fb7-b372-b15212be030e"
      },
      "execution_count": 13,
      "outputs": [
        {
          "output_type": "stream",
          "name": "stdout",
          "text": [
            "Ingrese su edad12\n",
            "Ingrese su edad22\n",
            "Ingrese su edad12\n",
            "[12, 12, 22]\n",
            " Los hermanos son gemelos\n"
          ]
        }
      ]
    },
    {
      "cell_type": "markdown",
      "source": [
        "#Ejercicio 4"
      ],
      "metadata": {
        "id": "pvgo3CvPlvBd"
      }
    },
    {
      "cell_type": "code",
      "source": [
        "b=str(input(\"Descubre en este programa si debes pagar impuesto de renta! \\nResponda (si), si cumple con alguno de estos topes \\n ¿Su patrimonio bruto al término del año gravable 2021 es igual o superior a $163.386.000? \\n ¿sus ingresos totales del respectivo ejercicio gravable son iguales o superiores a $50.831.000? \\n ¿sus consumos mediante tarjeta de crédito son iguales o superiores a $50.831.000? \\n ¿el valor total de sus compras y consumos son iguales o superiores a $50.831.000?\\n ¿el valor total acumulado de sus consignaciones bancarias, depósitos o inversiones financieras son igual o superior a $50.831.000?.\"))\n",
        "\n",
        "c= \"Debe pagar impuesto a la renta.\" if b.lower()==\"si\" else\"NO debe pagar impuesto a la renta.\"\n",
        " \n",
        "print(c)"
      ],
      "metadata": {
        "colab": {
          "base_uri": "https://localhost:8080/"
        },
        "id": "2Nyll85N75M5",
        "outputId": "6714f017-939c-4257-e16c-4eab9c33ec32"
      },
      "execution_count": 20,
      "outputs": [
        {
          "output_type": "stream",
          "name": "stdout",
          "text": [
            "Descubre en este programa si debes pagar impuesto de renta! \n",
            "Responda (si), si cumple con alguno de estos topes \n",
            " ¿Su patrimonio bruto al término del año gravable 2021 es igual o superior a $163.386.000? \n",
            " ¿sus ingresos totales del respectivo ejercicio gravable son iguales o superiores a $50.831.000? \n",
            " ¿sus consumos mediante tarjeta de crédito son iguales o superiores a $50.831.000? \n",
            " ¿el valor total de sus compras y consumos son iguales o superiores a $50.831.000?\n",
            " ¿el valor total acumulado de sus consignaciones bancarias, depósitos o inversiones financieras son igual o superior a $50.831.000?.si\n",
            "Debe pagar impuesto a la renta.\n"
          ]
        }
      ]
    },
    {
      "cell_type": "markdown",
      "source": [
        "#ejercicio 5\n"
      ],
      "metadata": {
        "id": "h0TaJJgkcw1k"
      }
    },
    {
      "cell_type": "code",
      "source": [
        "\n",
        "a=str(input(\"Vamos a averiguar de que universidad eres con tu código de estudiante (/◕ヮ◕)/ \\n Ingresa aquí tu código de estudiante!!! \\n\")) #str puede contener muchos tipos de datos como numeros\n",
        "\n",
        "if a[0]=='U':\n",
        "    contador=0\n",
        "    for i in range(1,9):\n",
        "        if int(a[i].isdigit())==True:\n",
        "            contador+=1\n",
        "    if contador==8:\n",
        "        print(\"Usuario UNAB\")\n",
        "        if int(a[7])==2 and int(a[8])==6:\n",
        "         print(\"Eres ingeniero electrónico\")\n",
        "        elif int(a[7])==3 and int(a[8])==2:\n",
        "            print(\"Eres ingeniero en sistemas\")\n",
        "        elif int(a[7])==5 and int(a[8])==0:\n",
        "            print(\"Eres ingeniero en administración de empresas\")\n",
        "      \n",
        "elif a[0]=='A':\n",
        "    int(a[1])==0 and int(a[2])==0 and int(a[3])==0\n",
        "    print(\"Usuario ANDES\")\n",
        "    if int(a[7])==2 and int(a[8])==6:\n",
        "     print(\"Eres ingeniero electrónico\")\n",
        "    elif int(a[7])==3 and int(a[8])==2:\n",
        "     print(\"Eres ingeniero en sistemas\")\n",
        "    elif int(a[7])==5 and int(a[8])==0:\n",
        "     print(\"Eres ingeniero en administración de empresas\")\n",
        "elif int(a[0:4])>1950:\n",
        "    print(\"Usuario UIS\")\n",
        "    if int(a[5])==2 and int(a[6])==6:\n",
        "     print(\"Eres ingeniero electrónico\")\n",
        "    elif int(a[5])==3 and int(a[6])==2:\n",
        "     print(\"Eres ingeniero en sistemas\")\n",
        "    elif int(a[5])==5 and int(a[6])==0:\n",
        "     print(\"Eres ingeniero en administración de empresas\")\n"
      ],
      "metadata": {
        "colab": {
          "base_uri": "https://localhost:8080/"
        },
        "id": "r5EKkWjzcy9S",
        "outputId": "dce05ec0-a886-4ffc-9f60-57f3de7e339c"
      },
      "execution_count": null,
      "outputs": [
        {
          "output_type": "stream",
          "name": "stdout",
          "text": [
            "Vamos a averiguar de que universidad eres con tu codigo de estudiante (/◕ヮ◕)/\n",
            "Ingresa aquí tu codigo de estudiante!!!A00000050\n",
            "Usuario ANDES\n",
            "Eres ingeniero en administración de empresas\n"
          ]
        }
      ]
    },
    {
      "cell_type": "markdown",
      "source": [
        "#Ejercicio 6"
      ],
      "metadata": {
        "id": "3mXdZhIw97Zi"
      }
    },
    {
      "cell_type": "code",
      "source": [
        "\n",
        "B=float(input(\"¡¡¡Vamos a calcular tu promedio! \\n ¡¡¡Espero sea 5,0!!! (ง︡0.0)ง \\n Ingresa tu primera nota.\"))\n",
        "K=float(input(\"Ingresa tu segunda nota.\"))\n",
        "S=float(input(\"Ingresa tu tercera nota.\"))\n",
        "J=float(input(\"Ingresa tu cuarta nota.\"))\n",
        "\n",
        "prom= ((B+K+S+J)/4)\n",
        "\n",
        "c= \"¡¡¡FELICITACIONES!!! Te salvas del parcial (っOvO)っ.\" if prom >=4.5 else\"\"\n",
        "d= \"Debes presentar el examen.\" if prom >=3.5 and prom < 4.5 else\"\"\n",
        "e= \"Adicional al examen, debes presentar un trabajo D:.\" if prom >=3.0 and prom < 3.5 else\"\"\n",
        "f= \"¡¡¡Tienes que habilitar!!! O﹏o.\" if prom >2.0 and prom < 3.0 else\"\"\n",
        "g= \"Parce te toca repetir ಥ_ಥ.\" if prom <= 2.0 else\"\"\n",
        "\n",
        "print(c,d,e,f,g)"
      ],
      "metadata": {
        "colab": {
          "base_uri": "https://localhost:8080/"
        },
        "id": "lhESalzx9_In",
        "outputId": "3e7c779b-e00d-42c6-cb28-d62c1ba5475b"
      },
      "execution_count": 22,
      "outputs": [
        {
          "output_type": "stream",
          "name": "stdout",
          "text": [
            "¡¡¡Vamos a calcular tu promedio! \n",
            " ¡¡¡Espero sea 5,0!!! (ง︡0.0)ง \n",
            " Ingresa tu primera nota.4\n",
            "Ingresa tu segunda nota.4\n",
            "Ingresa tu tercera nota.4\n",
            "Ingresa tu cuarta nota.4\n",
            " Debes presentar el examen.   \n"
          ]
        }
      ]
    },
    {
      "cell_type": "markdown",
      "source": [
        "#Ejercicio 7"
      ],
      "metadata": {
        "id": "bGbK1005KqYd"
      }
    },
    {
      "cell_type": "code",
      "source": [
        "from datetime import date, time, datetime #Importamos la libreria \"datetime\"\n",
        "B=str(input(\"Para que el programa te diga cuantos años tienes \\n ingresa tu fecha de nacimiento de esta manera: día/mes/año \")) \n",
        "C=datetime.strptime(B,\"%d/%m/%Y\") #\".strptime\" es un método que pasa un string a fecha\n",
        "#(variable,'%d/%m/%Y') es una directiva\n",
        "D=datetime.now() #\".now\" es un método que nos da la fecha actual\n",
        "L=D-C\n",
        "\n",
        "print(\"Tienes\",int(L.days/365), \"años\" )#.days/365 convierte días en años\n",
        "#int() convierte a entero\n",
        "K=str(input(\"Ingrese la fecha de su próximo cumpleaños de esta manera: día/mes/año \\n para saber cuantos días faltan para su cumpleaños \"  ))\n",
        "P=datetime.strptime(K,\"%d/%m/%Y\")\n",
        "S=P-D\n",
        "print(\"Faltan\" ,S.days, \"días para tu cumpleaños!\")"
      ],
      "metadata": {
        "id": "yCJWWHqpKtAm",
        "colab": {
          "base_uri": "https://localhost:8080/"
        },
        "outputId": "d58f1d00-87e4-4f95-e673-29f39d8ed21e"
      },
      "execution_count": null,
      "outputs": [
        {
          "output_type": "stream",
          "name": "stdout",
          "text": [
            "Para que el programa te diga cuantos años tienes \n",
            " ingresa tu fecha de nacimiento de esta manera: día/mes/año 29/03/2005\n",
            "Tienes 17 años\n",
            "Ingrese la fecha de su próximo cumpleaños de esta manera: día/mes/año \n",
            " para saber cuantos días faltan para tu cumpleaños29/03/2023\n",
            "Faltan 225 días para tu cumpleaños!\n"
          ]
        }
      ]
    },
    {
      "cell_type": "markdown",
      "source": [
        "#Ejercicio 8"
      ],
      "metadata": {
        "id": "bGYI08Ebx2Ge"
      }
    },
    {
      "cell_type": "code",
      "source": [
        "B=int(input(\"¡¡¡Ingresa un año para saber si es bisiesto o no!!!. \"))\n",
        "y=B%4\n",
        "x=B%400\n",
        "m=B%100\n",
        "\n",
        "c= \"El año ingresado NO es bisiesto.\" if y !=0 else\"\"\n",
        "d= \"El año ingresado es bisiesto.\" if y==0 and m!=0 else\"\"\n",
        "e= \"El año ingresado NO es bisiesto.\" if y==0 and m==0 and x!=0 else\"\"\n",
        "f= \"El año ingresado es bisiesto.\" if y==0 and m==0 and x==0 else\"El año ingresado NO es bisiesto.\"\n",
        "\n",
        "print(c,d,e,f)"
      ],
      "metadata": {
        "colab": {
          "base_uri": "https://localhost:8080/"
        },
        "id": "sHfyYqpzx45W",
        "outputId": "7e4ae913-fbd3-4e5d-eb97-9570114384bf"
      },
      "execution_count": null,
      "outputs": [
        {
          "output_type": "stream",
          "name": "stdout",
          "text": [
            "¡¡¡Ingresa un año para saber si es bisiesto o no!!!. 1800\n",
            "El año ingresado NO es bisiesto.\n"
          ]
        }
      ]
    },
    {
      "cell_type": "markdown",
      "source": [
        "#Ejercicio 9"
      ],
      "metadata": {
        "id": "sHCbC9Z8dUxF"
      }
    },
    {
      "cell_type": "code",
      "source": [
        "\n",
        "\n",
        "a=float(input(\"Bienvenido a calculator!!! \\n Vamos a hallar los coeficientes de una ecuación o(≧▽≦)o \\n Recuerda que la fórmula de la pendiente de la recta es: ax+b=0 \\n Para esto, es necesario que des los siguientes valores: \\n Ingresa el coeficiente a: \"))\n",
        "b=float(input(\"Ingresa el coeficiente b: \"))\n",
        "x=-b/a\n",
        "c= \"No es posible ejecutar la división.\" if a==0 else \"\"\n",
        "d= \"Los calculos han sido completados!!! \\n\",x, \"es el resultado\" \n",
        "\n",
        "print(c,d)"
      ],
      "metadata": {
        "colab": {
          "base_uri": "https://localhost:8080/"
        },
        "id": "2HOrP72EdRKZ",
        "outputId": "198528b5-cb95-4353-e347-b9f3e5cfbc93"
      },
      "execution_count": 24,
      "outputs": [
        {
          "output_type": "stream",
          "name": "stdout",
          "text": [
            "Bienvenido a calculator!!! \n",
            " Vamos a hallar los coeficientes de una ecuación o(≧▽≦)o \n",
            " Recuerda que la fórmula de la pendiente de la recta es: ax+b=0 \n",
            " Para esto, es necesario que des los siguientes valores: \n",
            " Ingresa el coeficiente a: 5\n",
            "Ingresa el coeficiente b: 4\n",
            " ('Los calculos han sido completados!!! \\n', -0.8, 'es el resultado')\n"
          ]
        }
      ]
    },
    {
      "cell_type": "markdown",
      "source": [
        "#Ejercicio 10"
      ],
      "metadata": {
        "id": "h4JtrflmdiFg"
      }
    },
    {
      "cell_type": "code",
      "source": [
        "\n",
        "\n",
        "B=float(input(\"Ingresa los siguientes valores: \\n El valor de un punto en x \"))\n",
        "K=float(input(\"El valor del mismo punto en y: \"))\n",
        "S=float(input(\"El valor de la b (corte con el eje y): \"))\n",
        "\n",
        "E=(K-S)/B\n",
        "\n",
        "print(\"Los cálculos han sido completados!!! \\n\",E, \"Es el valor de la peniente\")"
      ],
      "metadata": {
        "colab": {
          "base_uri": "https://localhost:8080/"
        },
        "id": "yBOJ3mMNdk6w",
        "outputId": "b300ae84-e5c5-4ba6-a3d6-5c28eb9c3965"
      },
      "execution_count": null,
      "outputs": [
        {
          "output_type": "stream",
          "name": "stdout",
          "text": [
            "Bienvenido a calculator!!!\n",
            "Vamos a hallar la pendiente de la recta o(≧▽≦)o\n",
            "Recuerda que la formula de la pendiente de la recta es: ax+b=c\n",
            "Para esto, es necesario que des los siguientes valores: \n",
            "El valor de un punto en x 20\n",
            "El valor del mismo punto en y: 30\n",
            "El valor de la b (corte con el eje y): 222\n",
            "Los calculos han sido completados!!! \n",
            " -9.6 Es el valor de la peniente\n"
          ]
        }
      ]
    },
    {
      "cell_type": "markdown",
      "source": [
        "#Ejercicio 11"
      ],
      "metadata": {
        "id": "qgRj_ZH2dlZS"
      }
    },
    {
      "cell_type": "code",
      "source": [
        "from math import sqrt\n",
        "\n",
        "\n",
        "a=float(input(\"Ingresa los siguientes valores: \\n Ingresa el coeficiente a: \"))\n",
        "b=float(input(\"Ingresa el coeficiente b: \"))\n",
        "c=float(input(\"Ingresa el coeficiente c: \"))\n",
        "\n",
        "d=b*b-4*a*c\n",
        "\n",
        "x=(d!= 0\n",
        "\n",
        "c= \"No hay solucion real.\" if d<0 else \"\"\n",
        "d= raiz=sqrt(d) x1=(-b+raiz)/(2*a) if \n",
        "\n",
        "if d<0: \n",
        " print(\"No hay solucion real.\")\n",
        "else:\n",
        " raiz=sqrt(d)      \n",
        " x1=(-b+raiz)/(2*a)     \n",
        " if d!= 0:         \n",
        "   x2 = (-b-raiz)/(2*a) \n",
        "   print(\"Los resultados son: {x1} y {x2}.\") \n",
        " else:\n",
        "   print(\"El resultado es x= {x1}.\")"
      ],
      "metadata": {
        "id": "11IBjtYzdnuH",
        "colab": {
          "base_uri": "https://localhost:8080/"
        },
        "outputId": "f5459d55-2746-424a-a323-a115cb72275c"
      },
      "execution_count": null,
      "outputs": [
        {
          "output_type": "stream",
          "name": "stdout",
          "text": [
            "¡¡¡Bienvenido a calculator!!!.\n",
            "Vamos a hallar los coeficientes de una ecuación de segundo grado o(≧▽≦)o.\n",
            "Para esto, es necesario que des los coeficientes \n",
            " de la ecuación de la recta ax²+bx+c=0: \n",
            "Ingresa el coeficiente a: -5\n",
            "Ingresa el coeficiente b: 0\n",
            "Ingresa el coeficiente c: 2\n",
            "Los resultados son: {x1} y {x2}.\n"
          ]
        }
      ]
    },
    {
      "cell_type": "markdown",
      "source": [
        "#Ejercicio 12"
      ],
      "metadata": {
        "id": "hibzqCJSeSRH"
      }
    },
    {
      "cell_type": "code",
      "source": [
        "import os\n",
        "\n",
        "\n",
        "#\"\\n\" es un salto de línea OJO NO ES IGUAL A \"/\"\n",
        "\n",
        "B=int(input(\"Qué quieres practicar hoy? \\n Si quieres practicar suma pon 1, si quieres practicar resta pon 2,\\nSi quieres practicar multiplicación pon 3, si quieres división pon 4\"))\n",
        "import random #Importamos la libreria\n",
        "random1= int(random.uniform(1,100)) #Nombramos la variable\n",
        "random2= int(random.uniform(7,200)) #Con el atributo .uniform es el rango donde se toman los datos\n",
        "K=0\n",
        "resultado2=float\n",
        "\n",
        "if B == 1:\n",
        "  resultado2=random1+random2\n",
        "  print(\"Por favor opera \" ,random1, \"y \" ,random2) #Necesitamos dos comas para abrir y cerrar la operación\n",
        "  resultado1=float(input(\"¿Cual es el resultado? >(OvO)< Vamos! Tu puedes \\n\"))\n",
        "\n",
        "elif B== 2:\n",
        "  resultado2=random1-random2\n",
        "  print(\"Por favor opera \" ,random1, \"y \" ,random2) \n",
        "  resultado1=float(input(\"¿Cual es el resultado? >(OvO)< Vamos! Tu puedes \\n\"))\n",
        "elif B== 3:\n",
        "  resultado2=random1*random2\n",
        "  print(\"Por favor opera \" ,random1, \"y \" ,random2) \n",
        "  resultado1=float(input(\"¿Cual es el resultado? >(OvO)< Vamos! Tu puedes \\n\"))\n",
        "elif B==4:\n",
        "  resultado2=random1/random2\n",
        "  print(\"Por favor opera \" ,random1, \"y \" ,random2) \n",
        "  resultado1=float(input(\"¿Cual es el resultado? >(OvO)< Vamos! Tu puedes \\n\"))\n",
        "elif B > 4 or B < 1 :\n",
        "  resultado1=float; print(\"Opción inválida D: \");os.system('exit')\n",
        "\n",
        "\n",
        "K=resultado1-resultado2\n",
        "if K == 0:\n",
        "  print(\"El resultado es correcto\")\n",
        "else:\n",
        "  print(\"Resultado incorrecto (╥﹏╥) \\n La respuesta es: \",resultado2)"
      ],
      "metadata": {
        "colab": {
          "base_uri": "https://localhost:8080/"
        },
        "id": "8KsgH1KHeVZS",
        "outputId": "43b2db35-695a-431b-84eb-bb3db600da48"
      },
      "execution_count": null,
      "outputs": [
        {
          "output_type": "stream",
          "name": "stdout",
          "text": [
            "Bienvenido a mateaprendizaje!!! (ɔ◔‿◔)ɔ ♥ \n",
            "Que quieres practicar hoy?\n",
            "Si quieres practicar suma pon 1, si quieres practicar resta pon 2,\n",
            "Si quieres practicar multiplicación pon 3, si quieres división pon 4\n",
            "4\n",
            "Por favor opera  95 y  8\n",
            "¿Cual es el resultado? >(OvO)< Vamos! Tu puedes!!! \n",
            "11.875\n",
            "El resultado es correcto\n"
          ]
        }
      ]
    },
    {
      "cell_type": "markdown",
      "source": [
        "#Ejercicio 13"
      ],
      "metadata": {
        "id": "pgtxZ749yc2v"
      }
    },
    {
      "cell_type": "code",
      "source": [
        "B=int(input(\"Ingresa un número:\")) #El input tambien puede servir de print pero con poco texto\n",
        "\n",
        "K=int(input(\"Si quieres convertir de cm a metros pon 1, si quieres convertir de cm a km pon 2 , \\n si quieres convertir de mestros a km pon 3, si quieres convertir de km a cm pon 4, si quieres convertir de km a m pon 5\"))\n",
        "t=int\n",
        "\n",
        "c= t=B/100 if K==1 else\"\"\n",
        "d= t=B/100000 if K==2 else\"\"\n",
        "e= t=B/1000 if K==3 else\"\"\n",
        "h= t=B*1000 if K==4  else\"\"\n",
        "y= t=B*1000 if K==5 else\"Opción inválida\"\n",
        "\n",
        "print (t)"
      ],
      "metadata": {
        "colab": {
          "base_uri": "https://localhost:8080/"
        },
        "id": "J_fvhbcbr2Nv",
        "outputId": "64a1bac7-ac0a-4e88-ef27-b0c409b49856"
      },
      "execution_count": 30,
      "outputs": [
        {
          "output_type": "stream",
          "name": "stdout",
          "text": [
            "Ingresa un número:5\n",
            "Si quieres convertir de cm a metros pon 1, si quieres convertir de cm a km pon 2 , \n",
            " si quieres convertir de mestros a km pon 3, si quieres convertir de km a cm pon 4, si quieres convertir de km a m pon 55\n",
            "5000\n"
          ]
        }
      ]
    },
    {
      "cell_type": "markdown",
      "source": [
        "#Ejercicio 14"
      ],
      "metadata": {
        "id": "vA8bb3q12U51"
      }
    },
    {
      "cell_type": "code",
      "source": [
        "\n",
        "B=input(\"¡Ola! Ingresa una letra y sabras si es consonante o vocal \\( ≖.≖)/\")\n",
        "cantidad=len(B)\n",
        "tipo=type(B)\n",
        "\n",
        "c=\"SYNTAX ERROR\" if B.isdigit()==True or cantidad>=2 else\"\"\n",
        "d=\"La letra ingresada es una vocal :D\" if B==(\"a\")  or   B==\"e\" or  B==\"i\" or  B==\"o\" or  B==\"u\" else \"la letra ingresada es una consonante\"\n",
        "print(c,d)"
      ],
      "metadata": {
        "colab": {
          "base_uri": "https://localhost:8080/"
        },
        "id": "FpCH6yTJdpIk",
        "outputId": "cf8c23fa-2c89-412b-9c77-700330b586f6"
      },
      "execution_count": 27,
      "outputs": [
        {
          "output_type": "stream",
          "name": "stdout",
          "text": [
            "¡Ola! Ingresa una letra y sabras si es consonante o vocal \\( ≖.≖)/f\n",
            " la letra ingresada es una consonante\n"
          ]
        }
      ]
    },
    {
      "cell_type": "markdown",
      "source": [
        "#Ejercicio 15\n"
      ],
      "metadata": {
        "id": "7xW_muEYIn2Z"
      }
    },
    {
      "cell_type": "code",
      "source": [
        "K=int(input(\"Ingresa un numero entero!!!\"))\n",
        "\n",
        "print(\"El valor absoluto del número ingresado es: \" , abs(K)) #La función \"abs()\" muestra el valor absoluto de un número"
      ],
      "metadata": {
        "colab": {
          "base_uri": "https://localhost:8080/"
        },
        "id": "RZ36ckGMIsbT",
        "outputId": "c0b71dc3-6f6f-405a-baa4-2a4d7c542086"
      },
      "execution_count": null,
      "outputs": [
        {
          "output_type": "stream",
          "name": "stdout",
          "text": [
            "Ingresa un numero entero!!!-1111\n",
            "El valor absoluto del numero ingresado es: \n",
            "1111\n"
          ]
        }
      ]
    },
    {
      "cell_type": "markdown",
      "source": [
        "#Ejercicio 16"
      ],
      "metadata": {
        "id": "dJYhxSfd79NR"
      }
    },
    {
      "cell_type": "code",
      "source": [
        "B=[]\n",
        "user1=str(input(\"Ingrese su nombre\"))\n",
        "list(user1)\n",
        "K=[]\n",
        "user2=str(input(\"Ingrese su nombre\"))\n",
        "list(user2)\n",
        "\n",
        "d= \"Coincidencia.\" if user1[0]==user2[0] or user1[-1]==user2[-1] else \"No hay coincidencia.\"\n",
        "\n"
      ],
      "metadata": {
        "colab": {
          "base_uri": "https://localhost:8080/"
        },
        "id": "MmuAwWig8DUo",
        "outputId": "3ce61f8a-2398-4f3f-8f5a-3fc93639c36e"
      },
      "execution_count": null,
      "outputs": [
        {
          "output_type": "stream",
          "name": "stdout",
          "text": [
            "Ingrese su nombreaaa\n",
            "Ingrese su nombreno\n",
            "No hay coinicdencia\n"
          ]
        }
      ]
    },
    {
      "cell_type": "markdown",
      "source": [
        "#Ejercicio 17"
      ],
      "metadata": {
        "id": "Sg_YR3jhXxuM"
      }
    },
    {
      "cell_type": "code",
      "source": [
        "K=str(input(\"Si desea votar por el candidato A del partido Alfa ponga A, \\n si desea votar por el candidato B del partido Beta ponga B, \\n si desea votar por el candidato C del partido Gamma ponga C.\"))\n",
        "c=[\"¡Usted ha votado por el candidato A del partido Alfa! (๑•́ ₃ •̀๑).\" if K.upper()==\"A\" else\"¡Usted ha votado por el candidato B del partido Beta! (๑•́ ₃ •̀๑).\" if K.upper()==\"B\"else \"¡Usted ha votado por el candidato C del partido Gamma! (๑•́ ₃ •̀๑).\" if K.upper()==\"C\"]\n",
        "\n"
      ],
      "metadata": {
        "colab": {
          "base_uri": "https://localhost:8080/",
          "height": 165
        },
        "id": "uJgTo2aGXqkz",
        "outputId": "a23cdc18-41a6-454a-e3da-c55330688925"
      },
      "execution_count": 29,
      "outputs": [
        {
          "output_type": "error",
          "ename": "SyntaxError",
          "evalue": "ignored",
          "traceback": [
            "\u001b[0;36m  File \u001b[0;32m\"<ipython-input-29-459f50febf0f>\"\u001b[0;36m, line \u001b[0;32m2\u001b[0m\n\u001b[0;31m    c=[\"¡Usted ha votado por el candidato A del partido Alfa! (๑•́ ₃ •̀๑).\" if K.upper()==\"A\" else\"¡Usted ha votado por el candidato B del partido Beta! (๑•́ ₃ •̀๑).\" if K.upper()==\"B\" else \"¡Usted ha votado por el candidato C del partido Gamma! (๑•́ ₃ •̀๑).\" if K.upper()==\"C\"]\u001b[0m\n\u001b[0m                                                                                                                                                                                                                                                                                     ^\u001b[0m\n\u001b[0;31mSyntaxError\u001b[0m\u001b[0;31m:\u001b[0m invalid syntax\n"
          ]
        }
      ]
    },
    {
      "cell_type": "markdown",
      "source": [
        "#Ejercicio 18"
      ],
      "metadata": {
        "id": "lRsg2HXx_iO_"
      }
    },
    {
      "cell_type": "code",
      "source": [
        "K=str(input(\"Ingresa un número entero para separar en sus unidades, decenas y centenas\"))\n",
        "\n",
        "\n",
        "print(\"Las unidades son: \",K[2],\"\\n Las decenas son: \",K[1], \"\\n Las centenas son: \",K[0])\n"
      ],
      "metadata": {
        "colab": {
          "base_uri": "https://localhost:8080/"
        },
        "id": "0AKc_az8_l29",
        "outputId": "296dd729-6614-4bf2-f171-0c2b28e2cf20"
      },
      "execution_count": null,
      "outputs": [
        {
          "output_type": "stream",
          "name": "stdout",
          "text": [
            "Ingresa un numero entero para separar en sus unidades, decenas y centenas123\n",
            "Las unidades son:  3\n",
            "Las decenas son:  2\n",
            "Las centenas son:  1\n"
          ]
        }
      ]
    },
    {
      "cell_type": "markdown",
      "source": [
        "#Ejercicio 19\n"
      ],
      "metadata": {
        "id": "d-QCxcNPPazl"
      }
    },
    {
      "cell_type": "code",
      "source": [
        "\n",
        "K=str(input(\"Descubre si una palabra es un palindromo \"))\n",
        "B=list(K.lower()) #vuelve las letras a minusculas\n",
        "K=list(K.lower())\n",
        "B.reverse()\n",
        "\n",
        "c=\"La palabra ingresada es un palíndromo\" if K==B else \"La palabra ingresada NO es un palíndromo\" \n",
        "print(c)"
      ],
      "metadata": {
        "id": "k1jCSo4EcpNu",
        "colab": {
          "base_uri": "https://localhost:8080/"
        },
        "outputId": "42c5e1a3-33f2-44bf-b167-f465532ddfb1"
      },
      "execution_count": null,
      "outputs": [
        {
          "output_type": "stream",
          "name": "stdout",
          "text": [
            "Descubre si una palabra es un palindromo ayuda por favor\n",
            "La palabra ingresada NO es un palindromo\n"
          ]
        }
      ]
    },
    {
      "cell_type": "markdown",
      "source": [
        "#Ejercicio 20"
      ],
      "metadata": {
        "id": "lKGjMTDLQdDd"
      }
    },
    {
      "cell_type": "code",
      "source": [
        "K=str(input(\"Descubre si el número es un palíndromo \"))\n",
        "B=list(K)\n",
        "K=list(K)\n",
        "B.reverse()\n",
        "\n",
        "c=\"El número ingresado es un palíndromo\" if K==B else \"El número ingresado NO es un palíndromo\" \n",
        "print(c)"
      ],
      "metadata": {
        "colab": {
          "base_uri": "https://localhost:8080/"
        },
        "id": "TbJl8qRpQlSf",
        "outputId": "997eecf1-5b5a-4443-edd3-24aa24a5a21a"
      },
      "execution_count": null,
      "outputs": [
        {
          "output_type": "stream",
          "name": "stdout",
          "text": [
            "Descubre si el número es un palíndromo 123\n",
            "El número ingresado NO es un palíndromo\n"
          ]
        }
      ]
    }
  ]
}